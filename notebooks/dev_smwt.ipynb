{
 "cells": [
  {
   "cell_type": "code",
   "execution_count": 1,
   "id": "ad4b94aa",
   "metadata": {},
   "outputs": [],
   "source": [
    "import xarray as xr\n",
    "from xhistogram.xarray import histogram\n",
    "import numpy as np\n",
    "import matplotlib.pyplot as plt\n",
    "import glob"
   ]
  },
  {
   "cell_type": "code",
   "execution_count": null,
   "id": "c85d04ce",
   "metadata": {},
   "outputs": [],
   "source": [
    "from wmt_inert_tracer.swmt import swmt\n",
    "from wmt_inert_tracer.compute import lbin_define\n",
    "from wmt_inert_tracer.preprocessing import preprocessing"
   ]
  },
  {
   "cell_type": "code",
   "execution_count": null,
   "id": "91b57690",
   "metadata": {},
   "outputs": [],
   "source": [
    "def load(paths):\n",
    "    return xr.open_mfdataset(paths,use_cftime=True)\n",
    "\n",
    "def calculate(ds,bins=None,group_tend=True):\n",
    "    # Define a reasonable range if bins not specified\n",
    "    if bins is None:\n",
    "        bins = np.arange(20,30,0.1)\n",
    "    # Expand bins to capture full density range\n",
    "    bins = np.concatenate((np.array([0]),bins,np.array([100])))\n",
    "    \n",
    "    # Preprocess data\n",
    "    ds = preprocessing(ds, grid=ds, decode_times=False, verbose=False)\n",
    "    \n",
    "    # Calculate WMT\n",
    "    G = swmt(ds).G('sigma0', bins=bins, group_tend=group_tend)\n",
    "    \n",
    "    # If tendencies were grouped then G is a DataArray\n",
    "    # For consistency in plotting function, convert it to a dataset\n",
    "    if group_tend:\n",
    "        G = G.to_dataset()\n",
    "    return G\n",
    "\n",
    "def plot(G):\n",
    "    # Don't plot first or last bin (expanded to capture full range)\n",
    "    G = G.isel(sigma0=slice(1,-1))\n",
    "    levs = G['sigma0'].values\n",
    "    \n",
    "    # Take annual mean and load\n",
    "    G = G.mean('time').load()\n",
    "    # Get terms in dataset\n",
    "    terms = list(G.data_vars)\n",
    "    \n",
    "    fig,ax = plt.subplots()\n",
    "    # Plot each term\n",
    "    for term in terms:\n",
    "        if term =='heat':\n",
    "            color='tab:red'\n",
    "        elif term =='salt':\n",
    "            color='tab:blue'\n",
    "        else:\n",
    "            color='k'\n",
    "        ax.plot(levs,G[term],label=term,color=color)\n",
    "        \n",
    "    # If terms were not grouped then sum them up to get total\n",
    "    if len(terms)>1:\n",
    "        total = xr.zeros_like(G[terms[0]])\n",
    "        for term in terms:\n",
    "            total += G[term]\n",
    "        ax.plot(levs,total,label='total',color='k')\n",
    "        \n",
    "    ax.legend()\n",
    "    ax.set_xlabel('SIGMA0')\n",
    "    ax.set_ylabel('TRANSFORMATION ($m^3s^{-1}$)')\n",
    "    ax.autoscale(enable=True, axis='x', tight=True)\n",
    "    return fig"
   ]
  },
  {
   "cell_type": "markdown",
   "id": "2022f9cf",
   "metadata": {},
   "source": [
    "### Monthly climatology"
   ]
  },
  {
   "cell_type": "code",
   "execution_count": null,
   "id": "c2a17dc9",
   "metadata": {},
   "outputs": [],
   "source": [
    "pp = '/archive/oar.gfdl.cmip6/CM4/warsaw_201710_om4_v1.0.1/CM4_piControl_C/gfdl.ncrc4-intel16-prod-openmp/pp/'\n",
    "ppname = 'ocean_monthly'\n",
    "path = pp+ppname+'/av/monthly_5yr/'+ppname+'.0001-0005.*.nc'\n",
    "paths = glob.glob(path)\n",
    "gridpath = pp+ppname+'/'+ppname+'.static.nc'\n",
    "paths.append(gridpath)"
   ]
  },
  {
   "cell_type": "code",
   "execution_count": null,
   "id": "03bf0311",
   "metadata": {},
   "outputs": [],
   "source": [
    "ds = load(paths)"
   ]
  },
  {
   "cell_type": "code",
   "execution_count": null,
   "id": "c9c23d3d",
   "metadata": {},
   "outputs": [],
   "source": [
    "G = calculate(ds,group_tend=False)"
   ]
  },
  {
   "cell_type": "code",
   "execution_count": null,
   "id": "26de9503",
   "metadata": {},
   "outputs": [],
   "source": [
    "fig = plot(G)"
   ]
  },
  {
   "cell_type": "markdown",
   "id": "fd49cc5c",
   "metadata": {},
   "source": [
    "### Time-series output (not developed)"
   ]
  },
  {
   "cell_type": "code",
   "execution_count": 11,
   "id": "91f53588",
   "metadata": {},
   "outputs": [],
   "source": [
    "pp = '/archive/oar.gfdl.cmip6/CM4/warsaw_201710_om4_v1.0.1/CM4_piControl_C/gfdl.ncrc4-intel16-prod-openmp/pp/'\n",
    "ppname = 'ocean_monthly'\n",
    "variables = ['tos','sos','hfds','sfdsi','wfo']\n",
    "paths = []\n",
    "for variable in variables:\n",
    "    path = pp+ppname+'/ts/monthly_5yr/'+ppname+'.0001-0005.*.'+variable+'.nc'\n",
    "    paths.append(glob.glob(path))"
   ]
  }
 ],
 "metadata": {
  "kernelspec": {
   "display_name": "Python [conda env:wmt_bgc]",
   "language": "python",
   "name": "conda-env-wmt_bgc-py"
  },
  "language_info": {
   "codemirror_mode": {
    "name": "ipython",
    "version": 3
   },
   "file_extension": ".py",
   "mimetype": "text/x-python",
   "name": "python",
   "nbconvert_exporter": "python",
   "pygments_lexer": "ipython3",
   "version": "3.9.4"
  }
 },
 "nbformat": 4,
 "nbformat_minor": 5
}
